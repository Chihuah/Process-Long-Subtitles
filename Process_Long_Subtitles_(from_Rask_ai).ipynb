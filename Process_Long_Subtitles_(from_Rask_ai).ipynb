{
  "nbformat": 4,
  "nbformat_minor": 0,
  "metadata": {
    "colab": {
      "provenance": [],
      "authorship_tag": "ABX9TyMtOiKTAm66M7leFw/Tliqx",
      "include_colab_link": true
    },
    "kernelspec": {
      "name": "python3",
      "display_name": "Python 3"
    },
    "language_info": {
      "name": "python"
    }
  },
  "cells": [
    {
      "cell_type": "markdown",
      "metadata": {
        "id": "view-in-github",
        "colab_type": "text"
      },
      "source": [
        "<a href=\"https://colab.research.google.com/github/Chihuah/Process-Long-Subtitles/blob/main/Process_Long_Subtitles_(from_Rask_ai).ipynb\" target=\"_parent\"><img src=\"https://colab.research.google.com/assets/colab-badge.svg\" alt=\"Open In Colab\"/></a>"
      ]
    },
    {
      "cell_type": "code",
      "execution_count": null,
      "metadata": {
        "id": "4FpaKFA4Ju_G"
      },
      "outputs": [],
      "source": [
        "!pip install pysrt"
      ]
    },
    {
      "cell_type": "code",
      "source": [
        "import pysrt\n",
        "import textwrap"
      ],
      "metadata": {
        "id": "kPAkNX1UJwHL"
      },
      "execution_count": null,
      "outputs": []
    },
    {
      "cell_type": "code",
      "source": [
        "def process_subtitles(subs, max_length):\n",
        "    processed_subs = []\n",
        "    i = 0\n",
        "    k = 1\n",
        "    while i < len(subs):\n",
        "        sub = subs[i]\n",
        "        lines = sub.text.split('\\n')\n",
        "        new_subs = []\n",
        "        for line in lines:\n",
        "            if len(line) > max_length:\n",
        "                # Split long lines\n",
        "                split_lines = textwrap.wrap(line, max_length)\n",
        "                new_subs.extend(split_lines)\n",
        "            else:\n",
        "                new_subs.append(line)\n",
        "        # Create new subtitles with recalculated end time\n",
        "        for j, text in enumerate(new_subs):\n",
        "            new_sub = pysrt.SubRipItem(index=k, text=text)\n",
        "            if(len(new_subs)==1):\n",
        "                new_sub.start = sub.start\n",
        "                new_sub.end = sub.end\n",
        "            else:\n",
        "                new_sub.start = sub.start + pysrt.SubRipTime(seconds=(sub.end-sub.start).seconds*j/len(new_subs))\n",
        "                new_sub.end = sub.start + pysrt.SubRipTime(seconds=(sub.end-sub.start).seconds*(j+1)/len(new_subs))\n",
        "            processed_subs.append(new_sub)\n",
        "            k += 1\n",
        "        i += 1\n",
        "\n",
        "    return processed_subs"
      ],
      "metadata": {
        "id": "WcypfYoOJxXV"
      },
      "execution_count": null,
      "outputs": []
    },
    {
      "cell_type": "code",
      "source": [
        "def process_file(input_file, output_file, max_length=70):\n",
        "    subs = pysrt.open(input_file)\n",
        "\n",
        "    processed_subs = process_subtitles(subs, max_length)\n",
        "\n",
        "    # Write to new .srt file\n",
        "    with open(output_file, 'w') as f:\n",
        "        for sub in processed_subs:\n",
        "            f.write(str(sub))\n",
        "            f.write('\\n')"
      ],
      "metadata": {
        "id": "ws07n1KrJ6vA"
      },
      "execution_count": null,
      "outputs": []
    },
    {
      "cell_type": "code",
      "source": [
        "# Usage\n",
        "process_file('5-2-03_enL.srt', '5-2-03_en.srt')"
      ],
      "metadata": {
        "id": "kMhCP1phJ_PS"
      },
      "execution_count": null,
      "outputs": []
    }
  ]
}